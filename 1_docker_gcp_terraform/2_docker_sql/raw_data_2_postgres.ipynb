{
 "cells": [
  {
   "cell_type": "code",
   "execution_count": 1,
   "id": "9a78a5e2",
   "metadata": {},
   "outputs": [],
   "source": [
    "#import libs \n",
    "import pandas as pd\n",
    "from sqlalchemy import create_engine\n",
    "from time import time"
   ]
  },
  {
   "cell_type": "code",
   "execution_count": 2,
   "id": "6b836359",
   "metadata": {},
   "outputs": [],
   "source": [
    "# import raw data from taxi&limousine commision (csv format)\n",
    "# csv links found here:https://github.com/DataTalksClub/nyc-tlc-data/releases/tag/yellow\n",
    "with pd.read_csv('https://github.com/DataTalksClub/nyc-tlc-data/releases/download/yellow/yellow_tripdata_2021-01.csv.gz',\n",
    "                iterator = True,\n",
    "                compression={'method': 'gzip', 'compresslevel': 1, 'mtime': 1},\n",
    "                low_memory = False) as reader:\n",
    "    for chunk in reader:\n",
    "        df = chunk"
   ]
  },
  {
   "cell_type": "code",
   "execution_count": null,
   "id": "21ddc9af",
   "metadata": {},
   "outputs": [],
   "source": [
    "# import raw data from taxi&limousine commision (parquet format)\n",
    "df = pd.read_parquet('https://d37ci6vzurychx.cloudfront.net/trip-data/yellow_tripdata_2021-01.parquet', engine = 'pyarrow')"
   ]
  },
  {
   "cell_type": "code",
   "execution_count": null,
   "id": "269b84ec",
   "metadata": {},
   "outputs": [],
   "source": [
    "# df EDA        \n",
    "df.shape\n",
    "df.columns\n",
    "df.dtypes"
   ]
  },
  {
   "cell_type": "code",
   "execution_count": 3,
   "id": "7ed730f2",
   "metadata": {},
   "outputs": [],
   "source": [
    "# update df for consecutive handling \n",
    "df.tpep_pickup_datetime = pd.to_datetime(df.tpep_pickup_datetime)\n",
    "df.tpep_dropoff_datetime = pd.to_datetime(df.tpep_dropoff_datetime)"
   ]
  },
  {
   "cell_type": "code",
   "execution_count": null,
   "id": "09321681",
   "metadata": {},
   "outputs": [],
   "source": [
    "# connect to postgres docker\n",
    "user = 'root'\n",
    "pwd = 'root'\n",
    "host = 'localhost'\n",
    "port = '5432'\n",
    "db_name = 'ny_taxi'\n",
    "\n",
    "engine = create_engine(f'postgresql://{user}:{pwd}@{host}:{port}/{db_name}')\n",
    "conn = engine.connect()"
   ]
  },
  {
   "cell_type": "code",
   "execution_count": null,
   "id": "a364da5c",
   "metadata": {},
   "outputs": [],
   "source": [
    "# get schema format for table to push to postgres\n",
    "print(pd.io.sql.get_schema(df, name = 'yellow_taxi_data', con = engine))"
   ]
  },
  {
   "cell_type": "code",
   "execution_count": null,
   "id": "c5050ce6",
   "metadata": {},
   "outputs": [],
   "source": [
    "# push part of the df to postgres \n",
    "df.head(n=100).to_sql(name = 'yellow_taxi_data', con = engine, if_exists = 'append')\n"
   ]
  },
  {
   "cell_type": "code",
   "execution_count": null,
   "id": "5d46b948",
   "metadata": {},
   "outputs": [],
   "source": [
    "# time how long it takes for a partition to be pushed into postgres \n",
    "%time df.head(n=100).to_sql(name = 'yellow_taxi_data', con = engine, if_exists = 'append')"
   ]
  },
  {
   "cell_type": "code",
   "execution_count": null,
   "id": "f68eed00",
   "metadata": {},
   "outputs": [],
   "source": [
    "# full pipeline would be \n",
    "df_iter = pd.read_csv('https://github.com/DataTalksClub/nyc-tlc-data/releases/download/yellow/yellow_tripdata_2021-01.csv.gz', \n",
    "                      iterator = True, \n",
    "                      chunksize = 100000,\n",
    "                      compression={'method': 'gzip', 'compresslevel': 1, 'mtime': 1},\n",
    "                      low_memory = False)\n",
    "df = next(df_iter)\n",
    "\n",
    "# pandas to do a create table query based on df\n",
    "pd.io.sql.get_schema(df, name = 'tbl_name', con = conn)\n",
    "\n",
    "# chunk insert df to postgres\n",
    "from time import time\n",
    "\n",
    "while True:\n",
    "    t1 = time()\n",
    "    df = next(df_iter)\n",
    "    \n",
    "    df.tpep_pickup_datetime = pd.to_datetime(df.tpep_pickup_datetime)\n",
    "    df.tpep_dropoff_datetime = pd.to_datetime(df.tpep_dropoff_datetime)\n",
    "\n",
    "    df.to_sql(name = 'tbl_name', con = conn, if_exists = 'append')\n",
    "    t2 = time()\n",
    "\n",
    "    print(f'inserted chunk in {t2 - t1} seconds')"
   ]
  },
  {
   "cell_type": "markdown",
   "id": "6f1287c6",
   "metadata": {},
   "source": [
    "### Helpful python commands "
   ]
  },
  {
   "cell_type": "code",
   "execution_count": null,
   "id": "4a44338b",
   "metadata": {},
   "outputs": [],
   "source": [
    "# checking pandas version within kernel  \n",
    "pd.__version__"
   ]
  },
  {
   "cell_type": "code",
   "execution_count": null,
   "id": "70b59815",
   "metadata": {},
   "outputs": [],
   "source": [
    "# checking pandas version from command line/global environment \n",
    "!pip freeze | grep pandas"
   ]
  },
  {
   "cell_type": "code",
   "execution_count": null,
   "id": "3d07dcf1",
   "metadata": {},
   "outputs": [],
   "source": [
    "# install wget via homebrew\n",
    "brew install wget"
   ]
  }
 ],
 "metadata": {
  "kernelspec": {
   "display_name": "Python 3 (ipykernel)",
   "language": "python",
   "name": "python3"
  },
  "language_info": {
   "codemirror_mode": {
    "name": "ipython",
    "version": 3
   },
   "file_extension": ".py",
   "mimetype": "text/x-python",
   "name": "python",
   "nbconvert_exporter": "python",
   "pygments_lexer": "ipython3",
   "version": "3.9.7"
  }
 },
 "nbformat": 4,
 "nbformat_minor": 5
}
